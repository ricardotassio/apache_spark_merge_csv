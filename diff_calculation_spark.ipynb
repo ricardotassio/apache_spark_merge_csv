{
 "cells": [
  {
   "cell_type": "code",
   "execution_count": 4,
   "metadata": {},
   "outputs": [],
   "source": [
    "from pyspark.sql import SparkSession\n",
    "from pyspark import SparkConf\n",
    "from pyspark.sql.functions import col, expr\n",
    "from pyspark.sql.types import IntegerType, DoubleType, FloatType, LongType\n",
    "import shutil\n",
    "import os\n",
    "\n",
    "conf = SparkConf()\n",
    "conf.set(\"spark.hadoop.security.authentication\", \"simple\")\n",
    "spark = SparkSession.builder.appName(\"Diff Calculation\").getOrCreate()"
   ]
  },
  {
   "cell_type": "code",
   "execution_count": 5,
   "metadata": {},
   "outputs": [],
   "source": [
    "\n",
    "\n",
    "pre_df = spark.read.option(\"header\", \"true\").csv(\"pre.csv\")\n",
    "post_df = spark.read.option(\"header\", \"true\").csv(\"post.csv\")\n",
    "key_columns = ['InvoiceNo', 'StockCode', 'CustomerID', 'InvoiceDate']\n",
    "merged_df = pre_df.alias(\"pre\").join(post_df.alias(\"post\"), key_columns, \"outer\")\n",
    "columns_to_compare = [col for col in pre_df.columns if col not in key_columns]\n"
   ]
  },
  {
   "cell_type": "code",
   "execution_count": 6,
   "metadata": {},
   "outputs": [
    {
     "name": "stderr",
     "output_type": "stream",
     "text": [
      "                                                                                \r"
     ]
    }
   ],
   "source": [
    "diff_columns = []\n",
    "for col_name in columns_to_compare:\n",
    "    if isinstance(pre_df.schema[col_name].dataType, (IntegerType, DoubleType, FloatType, LongType)):\n",
    "        diff_col = expr(f\"cast(post.{col_name} as double) - cast(pre.{col_name} as double)\").alias(f\"{col_name}_diff\")\n",
    "    else:\n",
    "        diff_col = expr(f\"post.{col_name} != pre.{col_name}\").alias(f\"{col_name}_diff\")\n",
    "    diff_columns.append(diff_col)\n",
    "\n",
    "select_columns = key_columns + \\\n",
    "                [col(f\"pre.{col_name}\").alias(f\"{col_name}_pre\") for col_name in columns_to_compare] + \\\n",
    "                [col(f\"post.{col_name}\").alias(f\"{col_name}_post\") for col_name in columns_to_compare] + \\\n",
    "                diff_columns\n",
    "result_df = merged_df.select(*select_columns)\n",
    "output_dir = \"output_single_file_temp\"\n",
    "result_df.coalesce(1).write.option(\"header\", \"true\").csv(output_dir)"
   ]
  },
  {
   "cell_type": "code",
   "execution_count": 7,
   "metadata": {},
   "outputs": [],
   "source": [
    "output_file = [f for f in os.listdir(output_dir) if f.endswith(\".csv\")][0]\n",
    "shutil.move(f\"{output_dir}/{output_file}\", \"output_single_file.csv\")\n",
    "shutil.rmtree(output_dir)\n",
    "spark.stop()"
   ]
  }
 ],
 "metadata": {
  "kernelspec": {
   "display_name": "Python 3",
   "language": "python",
   "name": "python3"
  },
  "language_info": {
   "codemirror_mode": {
    "name": "ipython",
    "version": 3
   },
   "file_extension": ".py",
   "mimetype": "text/x-python",
   "name": "python",
   "nbconvert_exporter": "python",
   "pygments_lexer": "ipython3",
   "version": "3.8.19"
  }
 },
 "nbformat": 4,
 "nbformat_minor": 2
}
